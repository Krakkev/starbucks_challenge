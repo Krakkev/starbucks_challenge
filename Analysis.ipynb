{
 "cells": [
  {
   "cell_type": "markdown",
   "metadata": {},
   "source": [
    "# It's time for the ANALYSIS!"
   ]
  },
  {
   "cell_type": "code",
   "execution_count": 1,
   "metadata": {},
   "outputs": [],
   "source": [
    "import pandas as pd\n",
    "from tqdm import tqdm\n",
    "import os\n",
    "import numpy as np\n",
    "from sklearn.preprocessing import StandardScaler\n",
    "from sklearn.cluster import KMeans\n",
    "from sklearn.metrics.pairwise import euclidean_distances\n",
    "import matplotlib.pyplot as plt\n",
    "\n",
    "# magic word for producing visualizations in notebook\n",
    "%matplotlib inline"
   ]
  },
  {
   "cell_type": "code",
   "execution_count": 2,
   "metadata": {},
   "outputs": [],
   "source": [
    "# read in the json files\n",
    "portfolio = pd.read_json('clean_data/portfolio.json')\n",
    "profile = pd.read_json('clean_data/profile.json')\n",
    "offers_influence = pd.read_json('clean_data/offers_influence.json')\n",
    "offers = pd.read_json('clean_data/offers.json')"
   ]
  },
  {
   "cell_type": "markdown",
   "metadata": {},
   "source": [
    "### Finding customer clusters based on their age, gender and months as user"
   ]
  },
  {
   "cell_type": "code",
   "execution_count": 3,
   "metadata": {},
   "outputs": [
    {
     "data": {
      "text/plain": [
       "17000"
      ]
     },
     "execution_count": 3,
     "metadata": {},
     "output_type": "execute_result"
    }
   ],
   "source": [
    "profile.shape[0]"
   ]
  },
  {
   "cell_type": "code",
   "execution_count": 4,
   "metadata": {},
   "outputs": [],
   "source": [
    "not_null_profile = profile.dropna()"
   ]
  },
  {
   "cell_type": "code",
   "execution_count": 5,
   "metadata": {},
   "outputs": [
    {
     "data": {
      "text/plain": [
       "14820"
      ]
     },
     "execution_count": 5,
     "metadata": {},
     "output_type": "execute_result"
    }
   ],
   "source": [
    "not_null_profile.shape[0]"
   ]
  },
  {
   "cell_type": "code",
   "execution_count": 6,
   "metadata": {},
   "outputs": [
    {
     "data": {
      "text/plain": [
       "2013"
      ]
     },
     "execution_count": 6,
     "metadata": {},
     "output_type": "execute_result"
    }
   ],
   "source": [
    "not_null_profile.sign_up_year.min()"
   ]
  },
  {
   "cell_type": "code",
   "execution_count": 7,
   "metadata": {},
   "outputs": [],
   "source": [
    "def months_since_2013(year, month):\n",
    "    return ((year - 2013) * 12) + month"
   ]
  },
  {
   "cell_type": "code",
   "execution_count": 8,
   "metadata": {},
   "outputs": [
    {
     "name": "stderr",
     "output_type": "stream",
     "text": [
      "/mnt/c/Users/Kevin/Documents/kevin/starbucks_challenge/env/lib/python3.6/site-packages/ipykernel_launcher.py:1: SettingWithCopyWarning: \n",
      "A value is trying to be set on a copy of a slice from a DataFrame.\n",
      "Try using .loc[row_indexer,col_indexer] = value instead\n",
      "\n",
      "See the caveats in the documentation: http://pandas.pydata.org/pandas-docs/stable/user_guide/indexing.html#returning-a-view-versus-a-copy\n",
      "  \"\"\"Entry point for launching an IPython kernel.\n"
     ]
    }
   ],
   "source": [
    "not_null_profile['months_since_2013'] = [months_since_2013(row.sign_up_year, row.sign_up_month) for index, row in not_null_profile.iterrows()]"
   ]
  },
  {
   "cell_type": "code",
   "execution_count": 9,
   "metadata": {},
   "outputs": [],
   "source": [
    "important_columns = ['age', 'became_member_on', 'income', 'F', 'M', 'O', 'months_since_2013']"
   ]
  },
  {
   "cell_type": "code",
   "execution_count": 10,
   "metadata": {},
   "outputs": [
    {
     "data": {
      "image/png": "[encoded data removed]",
      "text/plain": [
       "<Figure size 432x288 with 1 Axes>"
      ]
     },
     "metadata": {
      "needs_background": "light"
     },
     "output_type": "display_data"
    }
   ],
   "source": [
    "def get_kmeans_score(data, center):\n",
    "    '''\n",
    "    returns the kmeans score regarding SSE for points to centers\n",
    "    INPUT:\n",
    "        data - the dataset you want to fit kmeans to\n",
    "        center - the number of centers you want (the k value)\n",
    "    OUTPUT:\n",
    "        score - the SSE score for the kmeans model fit to the data\n",
    "    '''\n",
    "    #instantiate kmeans\n",
    "    kmeans = KMeans(n_clusters=center)\n",
    "\n",
    "    # Then fit the model to your data using the fit method\n",
    "    model = kmeans.fit(data)\n",
    "    \n",
    "    # Obtain a score related to the model fit\n",
    "    score = np.abs(model.score(data))\n",
    "    \n",
    "    return score\n",
    "\n",
    "scores = []\n",
    "centers = list(range(1, 10, 1))\n",
    "\n",
    "for center in centers:\n",
    "    scores.append(get_kmeans_score(not_null_profile[important_columns], center))\n",
    "    \n",
    "plt.plot(centers, scores, linestyle='--', marker='o', color='b');\n",
    "plt.xlabel('Centers');\n",
    "plt.ylabel('Distance from center');\n",
    "plt.title('Elbow grafic'); "
   ]
  },
  {
   "cell_type": "code",
   "execution_count": 25,
   "metadata": {},
   "outputs": [
    {
     "name": "stderr",
     "output_type": "stream",
     "text": [
      "/mnt/c/Users/Kevin/Documents/kevin/starbucks_challenge/env/lib/python3.6/site-packages/ipykernel_launcher.py:3: SettingWithCopyWarning: \n",
      "A value is trying to be set on a copy of a slice from a DataFrame.\n",
      "Try using .loc[row_indexer,col_indexer] = value instead\n",
      "\n",
      "See the caveats in the documentation: http://pandas.pydata.org/pandas-docs/stable/user_guide/indexing.html#returning-a-view-versus-a-copy\n",
      "  This is separate from the ipykernel package so we can avoid doing imports until\n"
     ]
    }
   ],
   "source": [
    "kmeans = KMeans(n_clusters=4)\n",
    "model = kmeans.fit(not_null_profile[important_columns])\n",
    "not_null_profile['cluster'] = model.predict(not_null_profile[important_columns])"
   ]
  },
  {
   "cell_type": "code",
   "execution_count": 31,
   "metadata": {},
   "outputs": [
    {
     "name": "stdout",
     "output_type": "stream",
     "text": [
      "0\n",
      "               age  became_member_on        income            F            M  \\\n",
      "count  4253.000000      4.253000e+03   4253.000000  4253.000000  4253.000000   \n",
      "mean     49.119445      2.017324e+07  43048.906654     0.306137     0.679520   \n",
      "std      18.358849      6.460036e+03   7823.966175     0.460941     0.466716   \n",
      "min      18.000000      2.016010e+07  30000.000000     0.000000     0.000000   \n",
      "25%      34.000000      2.017073e+07  36000.000000     0.000000     0.000000   \n",
      "50%      49.000000      2.017111e+07  43000.000000     0.000000     1.000000   \n",
      "75%      63.000000      2.018031e+07  50000.000000     1.000000     1.000000   \n",
      "max     100.000000      2.018073e+07  56000.000000     1.000000     1.000000   \n",
      "\n",
      "                 O  months_since_2013  cluster  \n",
      "count  4253.000000        4253.000000   4253.0  \n",
      "mean      0.014343          57.559135      0.0  \n",
      "std       0.118914           7.087817      0.0  \n",
      "min       0.000000          37.000000      0.0  \n",
      "25%       0.000000          55.000000      0.0  \n",
      "50%       0.000000          59.000000      0.0  \n",
      "75%       0.000000          63.000000      0.0  \n",
      "max       1.000000          67.000000      0.0  \n",
      "\n",
      "\n",
      "\n",
      "1\n",
      "               age  became_member_on         income            F            M  \\\n",
      "count  3247.000000      3.247000e+03    3247.000000  3247.000000  3247.000000   \n",
      "mean     62.624269      2.016577e+07   96962.734832     0.586695     0.399754   \n",
      "std      12.360218      1.018916e+04   10201.429275     0.492502     0.489923   \n",
      "min      36.000000      2.013080e+07   80000.000000     0.000000     0.000000   \n",
      "25%      53.000000      2.016042e+07   89000.000000     0.000000     0.000000   \n",
      "50%      61.000000      2.017030e+07   95000.000000     1.000000     0.000000   \n",
      "75%      71.000000      2.017110e+07  104000.000000     1.000000     1.000000   \n",
      "max     100.000000      2.018073e+07  120000.000000     1.000000     1.000000   \n",
      "\n",
      "                 O  months_since_2013  cluster  \n",
      "count  3247.000000        3247.000000   3247.0  \n",
      "mean      0.013551          48.994764      1.0  \n",
      "std       0.115635          11.740584      0.0  \n",
      "min       0.000000           8.000000      1.0  \n",
      "25%       0.000000          40.000000      1.0  \n",
      "50%       0.000000          51.000000      1.0  \n",
      "75%       0.000000          59.000000      1.0  \n",
      "max       1.000000          67.000000      1.0  \n",
      "\n",
      "\n",
      "\n",
      "2\n",
      "               age  became_member_on        income            F            M  \\\n",
      "count  2585.000000      2.585000e+03   2585.000000  2585.000000  2585.000000   \n",
      "mean     51.557834      2.014895e+07  55021.276596     0.317602     0.668085   \n",
      "std      17.817287      9.073828e+03  11684.775987     0.465634     0.470992   \n",
      "min      18.000000      2.013073e+07  30000.000000     0.000000     0.000000   \n",
      "25%      38.000000      2.014082e+07  48000.000000     0.000000     0.000000   \n",
      "50%      52.000000      2.015082e+07  55000.000000     0.000000     1.000000   \n",
      "75%      64.000000      2.015123e+07  62000.000000     1.000000     1.000000   \n",
      "max     100.000000      2.016123e+07  86000.000000     1.000000     1.000000   \n",
      "\n",
      "                 O  months_since_2013  cluster  \n",
      "count  2585.000000        2585.000000   2585.0  \n",
      "mean      0.014313          29.152418      2.0  \n",
      "std       0.118802          10.889289      0.0  \n",
      "min       0.000000           7.000000      2.0  \n",
      "25%       0.000000          20.000000      2.0  \n",
      "50%       0.000000          32.000000      2.0  \n",
      "75%       0.000000          36.000000      2.0  \n",
      "max       1.000000          48.000000      2.0  \n",
      "\n",
      "\n",
      "\n",
      "3\n",
      "               age  became_member_on        income            F            M  \\\n",
      "count  4735.000000      4.735000e+03   4735.000000  4735.000000  4735.000000   \n",
      "mean     54.985428      2.017174e+07  69511.087645     0.442661     0.542555   \n",
      "std      16.941947      7.235050e+03   7185.589248     0.496754     0.498238   \n",
      "min      18.000000      2.015042e+07  57000.000000     0.000000     0.000000   \n",
      "25%      43.000000      2.017031e+07  64000.000000     0.000000     0.000000   \n",
      "50%      55.000000      2.017101e+07  70000.000000     0.000000     1.000000   \n",
      "75%      67.000000      2.018020e+07  75000.000000     1.000000     1.000000   \n",
      "max     100.000000      2.018073e+07  85000.000000     1.000000     1.000000   \n",
      "\n",
      "                 O  months_since_2013  cluster  \n",
      "count  4735.000000        4735.000000   4735.0  \n",
      "mean      0.014784          55.710665      3.0  \n",
      "std       0.120698           8.241594      0.0  \n",
      "min       0.000000          28.000000      3.0  \n",
      "25%       0.000000          51.000000      3.0  \n",
      "50%       0.000000          58.000000      3.0  \n",
      "75%       0.000000          62.000000      3.0  \n",
      "max       1.000000          67.000000      3.0  \n",
      "\n",
      "\n",
      "\n"
     ]
    }
   ],
   "source": [
    "for cluster_number, cluster in not_null_profile[important_columns + ['cluster']].groupby('cluster'):\n",
    "    print(\"Cluster:\", cluster_number)\n",
    "    print(cluster.)\n",
    "    print(\"\\n\\n\")"
   ]
  },
  {
   "cell_type": "code",
   "execution_count": 21,
   "metadata": {},
   "outputs": [
    {
     "data": {
      "text/plain": [
       "array([55.0, 20170715, 112000.0, 1, 0, 0, 55], dtype=object)"
      ]
     },
     "execution_count": 21,
     "metadata": {},
     "output_type": "execute_result"
    }
   ],
   "source": []
  },
  {
   "cell_type": "code",
   "execution_count": null,
   "metadata": {},
   "outputs": [],
   "source": []
  }
 ],
 "metadata": {
  "kernelspec": {
   "display_name": "Python 3",
   "language": "python",
   "name": "python3"
  },
  "language_info": {
   "codemirror_mode": {
    "name": "ipython",
    "version": 3
   },
   "file_extension": ".py",
   "mimetype": "text/x-python",
   "name": "python",
   "nbconvert_exporter": "python",
   "pygments_lexer": "ipython3",
   "version": "3.6.8"
  }
 },
 "nbformat": 4,
 "nbformat_minor": 2
}
