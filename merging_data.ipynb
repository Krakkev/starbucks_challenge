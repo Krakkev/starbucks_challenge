{
 "cells": [
  {
   "cell_type": "markdown",
   "metadata": {},
   "source": [
    "# It's time to know how the datasets are related between them"
   ]
  },
  {
   "cell_type": "code",
   "execution_count": 47,
   "metadata": {},
   "outputs": [],
   "source": [
    "import pandas as pd\n",
    "from tqdm import tqdm\n",
    "import os"
   ]
  },
  {
   "cell_type": "code",
   "execution_count": 2,
   "metadata": {},
   "outputs": [],
   "source": [
    "# read in the json files\n",
    "portfolio = pd.read_json('clean_data/portfolio.json')\n",
    "profile = pd.read_json('clean_data/profile.json')\n",
    "offer_completed = pd.read_json('clean_data/offers_completed.json')\n",
    "transactions = pd.read_json('clean_data/transactions.json')\n",
    "offers_viewed = pd.read_json('clean_data/offers_viewed.json')\n",
    "offers_received = pd.read_json('clean_data/offers_received.json')"
   ]
  },
  {
   "cell_type": "code",
   "execution_count": 52,
   "metadata": {},
   "outputs": [
    {
     "name": "stderr",
     "output_type": "stream",
     "text": [
      "8it [00:00, 77.08it/s]"
     ]
    },
    {
     "name": "stdout",
     "output_type": "stream",
     "text": [
      "Starting offers formating.... (76277)\n"
     ]
    },
    {
     "name": "stderr",
     "output_type": "stream",
     "text": [
      "76277it [15:08, 83.98it/s]\n"
     ]
    }
   ],
   "source": [
    "\"\"\"\n",
    "This process takes a while, so I'm gonna store the output dataframe into a file called offers.json.\n",
    "TODO: Use multiprocessing to make this faster\n",
    "\"\"\"\n",
    "# Declaring the offers file path\n",
    "offers_path = 'clean_data/offers.json'\n",
    "\n",
    "# Checking if the file already exists\n",
    "if os.path.exists(offers_path):\n",
    "    # Loading the existing json file\n",
    "    offers = pd.read_json(offers_path)\n",
    "else:\n",
    "    # Defining the important columns from the portfolio dataframe\n",
    "    portfolio_columns = ['reward', 'difficulty', 'duration', 'bogo', 'discount', \n",
    "                         'informational', 'social', 'mobile', 'email', 'web']\n",
    "    # Declaring a list where all the new rows will be append\n",
    "    new_rows = []\n",
    "    print(\"Starting offers formating.... ({})\".format(offers_received.shape[0]))\n",
    "    \n",
    "    # Iterating over the received offers\n",
    "    for index, row in tqdm(offers_received.iterrows()):\n",
    "        # Getting the important portfolio fields related to the offer\n",
    "        new_row = portfolio[portfolio.id==row.offer_id].iloc[0][portfolio_columns].to_dict()\n",
    "        \n",
    "        # Getting the peron, start_time and due_time\n",
    "        new_row['person'] = row.person\n",
    "        new_row['start_time'] = row.time\n",
    "        new_row['due_time'] = new_row.get('start_time') + (new_row.get('duration')*24)\n",
    "\n",
    "        # Checking which of the offers were seen\n",
    "        viewed = offers_viewed.loc[\n",
    "            (offers_viewed.person==row.person) \n",
    "            & (offers_viewed.offer_id==row.offer_id) \n",
    "            & (\n",
    "                (offers_viewed.time>=new_row.get('start_time'))\n",
    "                | (offers_viewed.time<new_row.get('due_time'))\n",
    "            )\n",
    "        ]\n",
    "        if not viewed.empty:\n",
    "            new_row['viewed_time'] = viewed.reset_index().iloc[0].time\n",
    "\n",
    "        # Checking which of the offers were completed\n",
    "        completed = offer_completed.loc[\n",
    "            (offer_completed.person==row.person) \n",
    "            & (offer_completed.offer_id==row.offer_id) \n",
    "            & (\n",
    "                (offer_completed.time>=new_row.get('start_time'))\n",
    "                | (offer_completed.time<new_row.get('due_time'))\n",
    "            )\n",
    "        ]\n",
    "        if not completed.empty:\n",
    "            new_row['completed_time'] = completed.reset_index().iloc[0].time\n",
    "            \n",
    "        # Appending the new row obtained\n",
    "        new_rows.append(new_row)\n",
    "    \n",
    "    # Creating a dataframe with the bunch of new rows created\n",
    "    offers = pd.DataFrame(new_rows)\n",
    "    \n",
    "    # Saving the dataframe into a json\n",
    "    offers.to_json(offers_path)"
   ]
  },
  {
   "cell_type": "code",
   "execution_count": 54,
   "metadata": {},
   "outputs": [
    {
     "data": {
      "text/html": [
       "<div>\n",
       "<style scoped>\n",
       "    .dataframe tbody tr th:only-of-type {\n",
       "        vertical-align: middle;\n",
       "    }\n",
       "\n",
       "    .dataframe tbody tr th {\n",
       "        vertical-align: top;\n",
       "    }\n",
       "\n",
       "    .dataframe thead th {\n",
       "        text-align: right;\n",
       "    }\n",
       "</style>\n",
       "<table border=\"1\" class=\"dataframe\">\n",
       "  <thead>\n",
       "    <tr style=\"text-align: right;\">\n",
       "      <th></th>\n",
       "      <th>reward</th>\n",
       "      <th>difficulty</th>\n",
       "      <th>duration</th>\n",
       "      <th>bogo</th>\n",
       "      <th>discount</th>\n",
       "      <th>informational</th>\n",
       "      <th>social</th>\n",
       "      <th>mobile</th>\n",
       "      <th>email</th>\n",
       "      <th>web</th>\n",
       "      <th>person</th>\n",
       "      <th>start_time</th>\n",
       "      <th>due_time</th>\n",
       "      <th>viewed_time</th>\n",
       "      <th>completed_time</th>\n",
       "    </tr>\n",
       "  </thead>\n",
       "  <tbody>\n",
       "    <tr>\n",
       "      <td>0</td>\n",
       "      <td>5</td>\n",
       "      <td>5</td>\n",
       "      <td>7</td>\n",
       "      <td>1</td>\n",
       "      <td>0</td>\n",
       "      <td>0</td>\n",
       "      <td>0</td>\n",
       "      <td>1</td>\n",
       "      <td>1</td>\n",
       "      <td>1</td>\n",
       "      <td>78afa995795e4d85b5d9ceeca43f5fef</td>\n",
       "      <td>0</td>\n",
       "      <td>168</td>\n",
       "      <td>6.0</td>\n",
       "      <td>132.0</td>\n",
       "    </tr>\n",
       "    <tr>\n",
       "      <td>1</td>\n",
       "      <td>5</td>\n",
       "      <td>20</td>\n",
       "      <td>10</td>\n",
       "      <td>0</td>\n",
       "      <td>1</td>\n",
       "      <td>0</td>\n",
       "      <td>0</td>\n",
       "      <td>0</td>\n",
       "      <td>1</td>\n",
       "      <td>1</td>\n",
       "      <td>a03223e636434f42ac4c3df47e8bac43</td>\n",
       "      <td>0</td>\n",
       "      <td>240</td>\n",
       "      <td>6.0</td>\n",
       "      <td>NaN</td>\n",
       "    </tr>\n",
       "    <tr>\n",
       "      <td>2</td>\n",
       "      <td>2</td>\n",
       "      <td>10</td>\n",
       "      <td>7</td>\n",
       "      <td>0</td>\n",
       "      <td>1</td>\n",
       "      <td>0</td>\n",
       "      <td>0</td>\n",
       "      <td>1</td>\n",
       "      <td>1</td>\n",
       "      <td>1</td>\n",
       "      <td>e2127556f4f64592b11af22de27a7932</td>\n",
       "      <td>0</td>\n",
       "      <td>168</td>\n",
       "      <td>18.0</td>\n",
       "      <td>NaN</td>\n",
       "    </tr>\n",
       "    <tr>\n",
       "      <td>3</td>\n",
       "      <td>2</td>\n",
       "      <td>10</td>\n",
       "      <td>10</td>\n",
       "      <td>0</td>\n",
       "      <td>1</td>\n",
       "      <td>0</td>\n",
       "      <td>1</td>\n",
       "      <td>1</td>\n",
       "      <td>1</td>\n",
       "      <td>1</td>\n",
       "      <td>8ec6ce2a7e7949b1bf142def7d0e0586</td>\n",
       "      <td>0</td>\n",
       "      <td>240</td>\n",
       "      <td>12.0</td>\n",
       "      <td>NaN</td>\n",
       "    </tr>\n",
       "    <tr>\n",
       "      <td>4</td>\n",
       "      <td>10</td>\n",
       "      <td>10</td>\n",
       "      <td>5</td>\n",
       "      <td>1</td>\n",
       "      <td>0</td>\n",
       "      <td>0</td>\n",
       "      <td>1</td>\n",
       "      <td>1</td>\n",
       "      <td>1</td>\n",
       "      <td>1</td>\n",
       "      <td>68617ca6246f4fbc85e91a2a49552598</td>\n",
       "      <td>0</td>\n",
       "      <td>120</td>\n",
       "      <td>84.0</td>\n",
       "      <td>NaN</td>\n",
       "    </tr>\n",
       "  </tbody>\n",
       "</table>\n",
       "</div>"
      ],
      "text/plain": [
       "   reward  difficulty  duration  bogo  discount  informational  social  \\\n",
       "0       5           5         7     1         0              0       0   \n",
       "1       5          20        10     0         1              0       0   \n",
       "2       2          10         7     0         1              0       0   \n",
       "3       2          10        10     0         1              0       1   \n",
       "4      10          10         5     1         0              0       1   \n",
       "\n",
       "   mobile  email  web                            person  start_time  due_time  \\\n",
       "0       1      1    1  78afa995795e4d85b5d9ceeca43f5fef           0       168   \n",
       "1       0      1    1  a03223e636434f42ac4c3df47e8bac43           0       240   \n",
       "2       1      1    1  e2127556f4f64592b11af22de27a7932           0       168   \n",
       "3       1      1    1  8ec6ce2a7e7949b1bf142def7d0e0586           0       240   \n",
       "4       1      1    1  68617ca6246f4fbc85e91a2a49552598           0       120   \n",
       "\n",
       "   viewed_time  completed_time  \n",
       "0          6.0           132.0  \n",
       "1          6.0             NaN  \n",
       "2         18.0             NaN  \n",
       "3         12.0             NaN  \n",
       "4         84.0             NaN  "
      ]
     },
     "execution_count": 54,
     "metadata": {},
     "output_type": "execute_result"
    }
   ],
   "source": [
    "offers.head()"
   ]
  },
  {
   "cell_type": "code",
   "execution_count": null,
   "metadata": {},
   "outputs": [],
   "source": []
  },
  {
   "cell_type": "markdown",
   "metadata": {},
   "source": [
    "# Data conclusions"
   ]
  },
  {
   "cell_type": "code",
   "execution_count": null,
   "metadata": {},
   "outputs": [],
   "source": [
    "users = set(profile.id)\n",
    "print(\"Number of users: \", len(users))"
   ]
  },
  {
   "cell_type": "code",
   "execution_count": null,
   "metadata": {},
   "outputs": [],
   "source": [
    "users_with_offers = set(offers_received.person)\n",
    "print(\"Number of users with at least 1 offer: {} ({}% of all users)\".format(len(users_with_offers), round(len(users_with_offers)*100/len(users), 2)))\n",
    "print(\"Number of offers:\", len(offers_received))"
   ]
  },
  {
   "cell_type": "code",
   "execution_count": null,
   "metadata": {},
   "outputs": [],
   "source": [
    "users_offer_viewed = set(offers_viewed.person)\n",
    "print(\"Number of users who have known they had had at least one offer: {} ({}% of users with offers)\".format(\n",
    "    len(users_offer_viewed), round(len(users_offer_viewed)*100/len(users_with_offers), 2)\n",
    "))\n",
    "print(\"Number of offers viewed: {} ({}% of all offers sent)\".format(\n",
    "    len(offers_viewed), round(len(offers_viewed)*100/len(offers_received), 2)\n",
    "))"
   ]
  },
  {
   "cell_type": "code",
   "execution_count": null,
   "metadata": {},
   "outputs": [],
   "source": [
    "users_offer_completed = set(offer_completed.person)\n",
    "users_offer_completed_knowledge = users_offer_completed & users_offer_viewed\n",
    "users_offer_completed_no_knowledge = users_offer_completed - users_offer_viewed\n",
    "print(\"Number of users who completed at least one offer with knlowledge about their offers: {} ({}% of users with offers)\".format(\n",
    "    len(users_offer_completed_knowledge), round(len(users_offer_completed_knowledge)*100/len(users_with_offers), 2)\n",
    "))\n",
    "\n",
    "print(\"Number of users who completed at least one offer without knowing about their offers: {} ({}% of users with offers)\".format(\n",
    "    len(users_offer_completed_no_knowledge), round(len(users_offer_completed_no_knowledge)*100/len(users_with_offers), 2)\n",
    "))\n",
    "print(\"Number of offers completed: {} ({}% of all offers sent)\".format(\n",
    "    len(offer_completed), round(len(offer_completed)*100/len(offers_received), 2)\n",
    "))"
   ]
  }
 ],
 "metadata": {
  "kernelspec": {
   "display_name": "Python 3",
   "language": "python",
   "name": "python3"
  },
  "language_info": {
   "codemirror_mode": {
    "name": "ipython",
    "version": 3
   },
   "file_extension": ".py",
   "mimetype": "text/x-python",
   "name": "python",
   "nbconvert_exporter": "python",
   "pygments_lexer": "ipython3",
   "version": "3.6.8"
  }
 },
 "nbformat": 4,
 "nbformat_minor": 2
}
