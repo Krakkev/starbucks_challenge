{
 "cells": [
  {
   "cell_type": "markdown",
   "metadata": {},
   "source": [
    "# It's time to know how the datasets are related between them"
   ]
  },
  {
   "cell_type": "code",
   "execution_count": 1,
   "metadata": {},
   "outputs": [],
   "source": [
    "import pandas as pd\n",
    "from tqdm import tqdm\n",
    "import os"
   ]
  },
  {
   "cell_type": "code",
   "execution_count": 2,
   "metadata": {},
   "outputs": [],
   "source": [
    "# read in the json files\n",
    "portfolio = pd.read_json('clean_data/portfolio.json')\n",
    "profile = pd.read_json('clean_data/profile.json')\n",
    "offer_completed = pd.read_json('clean_data/offers_completed.json')\n",
    "transactions = pd.read_json('clean_data/transactions.json')\n",
    "offers_viewed = pd.read_json('clean_data/offers_viewed.json')\n",
    "offers_received = pd.read_json('clean_data/offers_received.json')"
   ]
  },
  {
   "cell_type": "code",
   "execution_count": 3,
   "metadata": {},
   "outputs": [],
   "source": [
    "\"\"\"\n",
    "This process takes a while, so I'm gonna store the output dataframe into a file called offers.json.\n",
    "TODO: Use multiprocessing to make this faster\n",
    "\"\"\"\n",
    "# Declaring the offers file path\n",
    "offers_path = 'clean_data/offers.json'\n",
    "\n",
    "# Checking if the file already exists\n",
    "if os.path.exists(offers_path):\n",
    "    # Loading the existing json file\n",
    "    offers = pd.read_json(offers_path)\n",
    "else:\n",
    "    # Defining the important columns from the portfolio dataframe\n",
    "    portfolio_columns = ['reward', 'difficulty', 'duration', 'bogo', 'discount', \n",
    "                         'informational', 'social', 'mobile', 'email', 'web']\n",
    "    # Declaring a list where all the new rows will be append\n",
    "    new_rows = []\n",
    "    print(\"Starting offers formating.... ({})\".format(offers_received.shape[0]))\n",
    "    \n",
    "    # Iterating over the received offers\n",
    "    for index, row in tqdm(offers_received.iterrows()):\n",
    "        # Getting the important portfolio fields related to the offer\n",
    "        new_row = portfolio[portfolio.id==row.offer_id].iloc[0][portfolio_columns].to_dict()\n",
    "        \n",
    "        # Getting the peron, start_time and due_time\n",
    "        new_row['person'] = row.person\n",
    "        new_row['start_time'] = row.time\n",
    "        new_row['due_time'] = new_row.get('start_time') + (new_row.get('duration')*24)\n",
    "\n",
    "        # Checking which of the offers were seen\n",
    "        viewed = offers_viewed.loc[\n",
    "            (offers_viewed.person==row.person) \n",
    "            & (offers_viewed.offer_id==row.offer_id) \n",
    "            & (\n",
    "                (offers_viewed.time>=new_row.get('start_time'))\n",
    "                | (offers_viewed.time<new_row.get('due_time'))\n",
    "            )\n",
    "        ]\n",
    "        if not viewed.empty:\n",
    "            new_row['viewed_time'] = viewed.reset_index().iloc[0].time\n",
    "\n",
    "        # Checking which of the offers were completed\n",
    "        completed = offer_completed.loc[\n",
    "            (offer_completed.person==row.person) \n",
    "            & (offer_completed.offer_id==row.offer_id) \n",
    "            & (\n",
    "                (offer_completed.time>=new_row.get('start_time'))\n",
    "                | (offer_completed.time<new_row.get('due_time'))\n",
    "            )\n",
    "        ]\n",
    "        if not completed.empty:\n",
    "            new_row['completed_time'] = completed.reset_index().iloc[0].time\n",
    "            \n",
    "        # Appending the new row obtained\n",
    "        new_rows.append(new_row)\n",
    "    \n",
    "    # Creating a dataframe with the bunch of new rows created\n",
    "    offers = pd.DataFrame(new_rows)\n",
    "    \n",
    "    # Saving the dataframe into a json\n",
    "    offers.to_json(offers_path)"
   ]
  },
  {
   "cell_type": "code",
   "execution_count": 4,
   "metadata": {},
   "outputs": [
    {
     "data": {
      "text/html": [
       "<div>\n",
       "<style scoped>\n",
       "    .dataframe tbody tr th:only-of-type {\n",
       "        vertical-align: middle;\n",
       "    }\n",
       "\n",
       "    .dataframe tbody tr th {\n",
       "        vertical-align: top;\n",
       "    }\n",
       "\n",
       "    .dataframe thead th {\n",
       "        text-align: right;\n",
       "    }\n",
       "</style>\n",
       "<table border=\"1\" class=\"dataframe\">\n",
       "  <thead>\n",
       "    <tr style=\"text-align: right;\">\n",
       "      <th></th>\n",
       "      <th>reward</th>\n",
       "      <th>difficulty</th>\n",
       "      <th>duration</th>\n",
       "      <th>bogo</th>\n",
       "      <th>discount</th>\n",
       "      <th>informational</th>\n",
       "      <th>social</th>\n",
       "      <th>mobile</th>\n",
       "      <th>email</th>\n",
       "      <th>web</th>\n",
       "      <th>person</th>\n",
       "      <th>start_time</th>\n",
       "      <th>due_time</th>\n",
       "      <th>viewed_time</th>\n",
       "      <th>completed_time</th>\n",
       "    </tr>\n",
       "  </thead>\n",
       "  <tbody>\n",
       "    <tr>\n",
       "      <td>0</td>\n",
       "      <td>5</td>\n",
       "      <td>5</td>\n",
       "      <td>7</td>\n",
       "      <td>1</td>\n",
       "      <td>0</td>\n",
       "      <td>0</td>\n",
       "      <td>0</td>\n",
       "      <td>1</td>\n",
       "      <td>1</td>\n",
       "      <td>1</td>\n",
       "      <td>78afa995795e4d85b5d9ceeca43f5fef</td>\n",
       "      <td>0</td>\n",
       "      <td>168</td>\n",
       "      <td>6.0</td>\n",
       "      <td>132.0</td>\n",
       "    </tr>\n",
       "    <tr>\n",
       "      <td>1</td>\n",
       "      <td>5</td>\n",
       "      <td>20</td>\n",
       "      <td>10</td>\n",
       "      <td>0</td>\n",
       "      <td>1</td>\n",
       "      <td>0</td>\n",
       "      <td>0</td>\n",
       "      <td>0</td>\n",
       "      <td>1</td>\n",
       "      <td>1</td>\n",
       "      <td>a03223e636434f42ac4c3df47e8bac43</td>\n",
       "      <td>0</td>\n",
       "      <td>240</td>\n",
       "      <td>6.0</td>\n",
       "      <td>NaN</td>\n",
       "    </tr>\n",
       "    <tr>\n",
       "      <td>2</td>\n",
       "      <td>2</td>\n",
       "      <td>10</td>\n",
       "      <td>7</td>\n",
       "      <td>0</td>\n",
       "      <td>1</td>\n",
       "      <td>0</td>\n",
       "      <td>0</td>\n",
       "      <td>1</td>\n",
       "      <td>1</td>\n",
       "      <td>1</td>\n",
       "      <td>e2127556f4f64592b11af22de27a7932</td>\n",
       "      <td>0</td>\n",
       "      <td>168</td>\n",
       "      <td>18.0</td>\n",
       "      <td>NaN</td>\n",
       "    </tr>\n",
       "    <tr>\n",
       "      <td>3</td>\n",
       "      <td>2</td>\n",
       "      <td>10</td>\n",
       "      <td>10</td>\n",
       "      <td>0</td>\n",
       "      <td>1</td>\n",
       "      <td>0</td>\n",
       "      <td>1</td>\n",
       "      <td>1</td>\n",
       "      <td>1</td>\n",
       "      <td>1</td>\n",
       "      <td>8ec6ce2a7e7949b1bf142def7d0e0586</td>\n",
       "      <td>0</td>\n",
       "      <td>240</td>\n",
       "      <td>12.0</td>\n",
       "      <td>NaN</td>\n",
       "    </tr>\n",
       "    <tr>\n",
       "      <td>4</td>\n",
       "      <td>10</td>\n",
       "      <td>10</td>\n",
       "      <td>5</td>\n",
       "      <td>1</td>\n",
       "      <td>0</td>\n",
       "      <td>0</td>\n",
       "      <td>1</td>\n",
       "      <td>1</td>\n",
       "      <td>1</td>\n",
       "      <td>1</td>\n",
       "      <td>68617ca6246f4fbc85e91a2a49552598</td>\n",
       "      <td>0</td>\n",
       "      <td>120</td>\n",
       "      <td>84.0</td>\n",
       "      <td>NaN</td>\n",
       "    </tr>\n",
       "  </tbody>\n",
       "</table>\n",
       "</div>"
      ],
      "text/plain": [
       "   reward  difficulty  duration  bogo  discount  informational  social  \\\n",
       "0       5           5         7     1         0              0       0   \n",
       "1       5          20        10     0         1              0       0   \n",
       "2       2          10         7     0         1              0       0   \n",
       "3       2          10        10     0         1              0       1   \n",
       "4      10          10         5     1         0              0       1   \n",
       "\n",
       "   mobile  email  web                            person  start_time  due_time  \\\n",
       "0       1      1    1  78afa995795e4d85b5d9ceeca43f5fef           0       168   \n",
       "1       0      1    1  a03223e636434f42ac4c3df47e8bac43           0       240   \n",
       "2       1      1    1  e2127556f4f64592b11af22de27a7932           0       168   \n",
       "3       1      1    1  8ec6ce2a7e7949b1bf142def7d0e0586           0       240   \n",
       "4       1      1    1  68617ca6246f4fbc85e91a2a49552598           0       120   \n",
       "\n",
       "   viewed_time  completed_time  \n",
       "0          6.0           132.0  \n",
       "1          6.0             NaN  \n",
       "2         18.0             NaN  \n",
       "3         12.0             NaN  \n",
       "4         84.0             NaN  "
      ]
     },
     "execution_count": 4,
     "metadata": {},
     "output_type": "execute_result"
    }
   ],
   "source": [
    "offers.head()"
   ]
  },
  {
   "cell_type": "markdown",
   "metadata": {},
   "source": [
    "Now It's time to check which of the transactions were influenced by an offer."
   ]
  },
  {
   "cell_type": "code",
   "execution_count": 18,
   "metadata": {},
   "outputs": [],
   "source": [
    "offers_influence = transactions.copy()"
   ]
  },
  {
   "cell_type": "code",
   "execution_count": 22,
   "metadata": {},
   "outputs": [
    {
     "data": {
      "text/html": [
       "<div>\n",
       "<style scoped>\n",
       "    .dataframe tbody tr th:only-of-type {\n",
       "        vertical-align: middle;\n",
       "    }\n",
       "\n",
       "    .dataframe tbody tr th {\n",
       "        vertical-align: top;\n",
       "    }\n",
       "\n",
       "    .dataframe thead th {\n",
       "        text-align: right;\n",
       "    }\n",
       "</style>\n",
       "<table border=\"1\" class=\"dataframe\">\n",
       "  <thead>\n",
       "    <tr style=\"text-align: right;\">\n",
       "      <th></th>\n",
       "      <th>person</th>\n",
       "      <th>event</th>\n",
       "      <th>time</th>\n",
       "      <th>amount</th>\n",
       "      <th>informational</th>\n",
       "    </tr>\n",
       "  </thead>\n",
       "  <tbody>\n",
       "    <tr>\n",
       "      <td>12654</td>\n",
       "      <td>02c083884c7d45b39cc68e1314fec56c</td>\n",
       "      <td>transaction</td>\n",
       "      <td>0</td>\n",
       "      <td>0.83</td>\n",
       "      <td>0</td>\n",
       "    </tr>\n",
       "    <tr>\n",
       "      <td>12657</td>\n",
       "      <td>9fa9ae8f57894cc9a3b8a9bbe0fc1b2f</td>\n",
       "      <td>transaction</td>\n",
       "      <td>0</td>\n",
       "      <td>34.56</td>\n",
       "      <td>0</td>\n",
       "    </tr>\n",
       "    <tr>\n",
       "      <td>12659</td>\n",
       "      <td>54890f68699049c2a04d415abc25e717</td>\n",
       "      <td>transaction</td>\n",
       "      <td>0</td>\n",
       "      <td>13.23</td>\n",
       "      <td>0</td>\n",
       "    </tr>\n",
       "    <tr>\n",
       "      <td>12670</td>\n",
       "      <td>b2f1cd155b864803ad8334cdf13c4bd2</td>\n",
       "      <td>transaction</td>\n",
       "      <td>0</td>\n",
       "      <td>19.51</td>\n",
       "      <td>0</td>\n",
       "    </tr>\n",
       "    <tr>\n",
       "      <td>12671</td>\n",
       "      <td>fe97aa22dd3e48c8b143116a8403dd52</td>\n",
       "      <td>transaction</td>\n",
       "      <td>0</td>\n",
       "      <td>18.97</td>\n",
       "      <td>0</td>\n",
       "    </tr>\n",
       "  </tbody>\n",
       "</table>\n",
       "</div>"
      ],
      "text/plain": [
       "                                 person        event  time  amount  \\\n",
       "12654  02c083884c7d45b39cc68e1314fec56c  transaction     0    0.83   \n",
       "12657  9fa9ae8f57894cc9a3b8a9bbe0fc1b2f  transaction     0   34.56   \n",
       "12659  54890f68699049c2a04d415abc25e717  transaction     0   13.23   \n",
       "12670  b2f1cd155b864803ad8334cdf13c4bd2  transaction     0   19.51   \n",
       "12671  fe97aa22dd3e48c8b143116a8403dd52  transaction     0   18.97   \n",
       "\n",
       "       informational  \n",
       "12654              0  \n",
       "12657              0  \n",
       "12659              0  \n",
       "12670              0  \n",
       "12671              0  "
      ]
     },
     "execution_count": 22,
     "metadata": {},
     "output_type": "execute_result"
    }
   ],
   "source": [
    "offers_influence.head()"
   ]
  },
  {
   "cell_type": "markdown",
   "metadata": {},
   "source": [
    "For the informative offers seen, we will think that all purchases made before the expiration date of the offer were influenced by it."
   ]
  },
  {
   "cell_type": "code",
   "execution_count": 21,
   "metadata": {},
   "outputs": [
    {
     "name": "stderr",
     "output_type": "stream",
     "text": [
      "4it [00:00, 34.92it/s]"
     ]
    },
    {
     "name": "stdout",
     "output_type": "stream",
     "text": [
      "Informational offers viewed: 11495\n"
     ]
    },
    {
     "name": "stderr",
     "output_type": "stream",
     "text": [
      "11495it [04:36, 41.51it/s]\n"
     ]
    }
   ],
   "source": [
    "# INFORMATIONAL INFLUENCE\n",
    "offers_influence['informational'] = 0\n",
    "informational_offers_viewed = offers[(offers.informational==1) & (~offers.viewed_time.isnull())]\n",
    "print(\"Informational offers viewed:\", len(informational_offers_viewed))\n",
    "for index, row in tqdm(informational_offers_viewed.iterrows()):\n",
    "    offers_influence.loc[(offers_influence.person==row.person) & (offers_influence.time >= row.viewed_time) & (offers_influence.time < row.due_time), 'informational'] = 1"
   ]
  },
  {
   "cell_type": "markdown",
   "metadata": {},
   "source": [
    "For the discount offers seen, we will think that if the offer was completed all the purchases made to complete it were influenced by it. If the offer wasn't completed we won't think the purchases were influenced."
   ]
  },
  {
   "cell_type": "code",
   "execution_count": 27,
   "metadata": {},
   "outputs": [
    {
     "name": "stderr",
     "output_type": "stream",
     "text": [
      "6it [00:00, 54.82it/s]"
     ]
    },
    {
     "name": "stdout",
     "output_type": "stream",
     "text": [
      "Discount offers viewed & completed: 15846\n"
     ]
    },
    {
     "name": "stderr",
     "output_type": "stream",
     "text": [
      "15846it [04:42, 56.16it/s]\n"
     ]
    }
   ],
   "source": [
    "# DISCOUNT INFLUENCE\n",
    "offers_influence['discount'] = 0\n",
    "discount_offers_viewed_and_completed = offers[(offers.discount==1) & (~offers.viewed_time.isnull()) & (~offers.completed_time.isnull())]\n",
    "print(\"Discount offers viewed & completed:\", len(discount_offers_viewed_and_completed))\n",
    "for index, row in tqdm(discount_offers_viewed_and_completed.iterrows()):\n",
    "    dollars_spent = 0\n",
    "    transactions_made = offers_influence[(offers_influence.person==row.person) & (offers_influence.time >= row.viewed_time) & (offers_influence.time <= row.completed_time)]\n",
    "    for idx, transaction_made in transactions_made.iterrows():\n",
    "        offers_influence.at[idx, 'discount'] = 1\n",
    "        dollars_spent += transaction_made.amount\n",
    "        if dollars_spent >= row.difficulty:\n",
    "            break"
   ]
  },
  {
   "cell_type": "markdown",
   "metadata": {},
   "source": [
    "For the BOGO offers we are going to think that the purchases made after the offer was seen or after the first purchase was made (thinking that the users are going to know about their offer after this purchase), were influenced."
   ]
  },
  {
   "cell_type": "code",
   "execution_count": 47,
   "metadata": {},
   "outputs": [
    {
     "name": "stderr",
     "output_type": "stream",
     "text": [
      "14it [00:00, 137.02it/s]"
     ]
    },
    {
     "name": "stdout",
     "output_type": "stream",
     "text": [
      "BOGO offers 30499\n"
     ]
    },
    {
     "name": "stderr",
     "output_type": "stream",
     "text": [
      "30499it [03:18, 153.64it/s]\n"
     ]
    }
   ],
   "source": [
    "# BOGO INFLUENCE\n",
    "offers_influence['bogo'] = 0\n",
    "bogo_offers = offers[offers.bogo==1]\n",
    "print(\"BOGO offers\", len(bogo_offers))\n",
    "for index, row in tqdm(bogo_offers.iterrows()):\n",
    "    transactions_made = offers_influence[(offers_influence.person==row.person) & (offers_influence.time >= row.start_time) & ((offers_influence.time.isnull()) | (offers_influence.time <= row.completed_time))]\n",
    "    first = True\n",
    "    for idx, transaction_made in transactions_made.iterrows():\n",
    "        if first is True and transaction_made.time < row.viewed_time:\n",
    "            first = False\n",
    "            continue\n",
    "        offers_influence.at[idx, 'bogo'] = 1"
   ]
  },
  {
   "cell_type": "code",
   "execution_count": 51,
   "metadata": {},
   "outputs": [
    {
     "data": {
      "text/plain": [
       "15437"
      ]
     },
     "execution_count": 51,
     "metadata": {},
     "output_type": "execute_result"
    }
   ],
   "source": [
    "offers_influence[offers_influence.bogo==1].bogo.count()"
   ]
  },
  {
   "cell_type": "code",
   "execution_count": 52,
   "metadata": {},
   "outputs": [
    {
     "data": {
      "text/plain": [
       "17613"
      ]
     },
     "execution_count": 52,
     "metadata": {},
     "output_type": "execute_result"
    }
   ],
   "source": [
    "offers_influence[offers_influence.discount==1].discount.count()"
   ]
  },
  {
   "cell_type": "code",
   "execution_count": 53,
   "metadata": {},
   "outputs": [
    {
     "data": {
      "text/plain": [
       "13509"
      ]
     },
     "execution_count": 53,
     "metadata": {},
     "output_type": "execute_result"
    }
   ],
   "source": [
    "offers_influence[offers_influence.informational==1].informational.count()"
   ]
  },
  {
   "cell_type": "code",
   "execution_count": 54,
   "metadata": {},
   "outputs": [],
   "source": [
    "offers_influence.to_json('clean_data/offers_influence.json')"
   ]
  }
 ],
 "metadata": {
  "kernelspec": {
   "display_name": "Python 3",
   "language": "python",
   "name": "python3"
  },
  "language_info": {
   "codemirror_mode": {
    "name": "ipython",
    "version": 3
   },
   "file_extension": ".py",
   "mimetype": "text/x-python",
   "name": "python",
   "nbconvert_exporter": "python",
   "pygments_lexer": "ipython3",
   "version": "3.6.8"
  }
 },
 "nbformat": 4,
 "nbformat_minor": 2
}
